{
 "cells": [
  {
   "cell_type": "code",
   "execution_count": 1,
   "metadata": {},
   "outputs": [],
   "source": [
    "import numpy as np"
   ]
  },
  {
   "cell_type": "code",
   "execution_count": 2,
   "metadata": {},
   "outputs": [],
   "source": [
    "import matplotlib.pyplot as plt"
   ]
  },
  {
   "cell_type": "code",
   "execution_count": 3,
   "metadata": {},
   "outputs": [],
   "source": [
    "x_train = np.array([[4.7],[2.4],[7.5],[7.1],[4.3],[7.816],\n",
    "                    [8.9],[5.2],[8.59],[2.1],[8],\n",
    "                    [10],[4.5],[6],[4]], dtype = np.float32)"
   ]
  },
  {
   "cell_type": "code",
   "execution_count": 4,
   "metadata": {},
   "outputs": [],
   "source": [
    "y_train = np.array([[2.6],[1.6],[3.09],[2.4],[2.4],[3.357],[2.6],\n",
    "                   [1.96], [3.53],[1.76], [3.2],[3.5],[1.6], [2.5], [2.2]],\n",
    "                  dtype = np.float32)"
   ]
  },
  {
   "cell_type": "code",
   "execution_count": 5,
   "metadata": {},
   "outputs": [
    {
     "data": {
      "image/png": "[encoded data removed]",
      "text/plain": [
       "<Figure size 864x576 with 1 Axes>"
      ]
     },
     "metadata": {
      "needs_background": "light"
     },
     "output_type": "display_data"
    }
   ],
   "source": [
    "plt.figure(figsize = (12,8))\n",
    "plt.scatter(x_train, y_train, label = 'Original data', s = 250, c = 'g')\n",
    "plt.legend()\n",
    "plt.show()"
   ]
  },
  {
   "cell_type": "code",
   "execution_count": 6,
   "metadata": {},
   "outputs": [],
   "source": [
    "import torch"
   ]
  },
  {
   "cell_type": "code",
   "execution_count": 7,
   "metadata": {},
   "outputs": [],
   "source": [
    "X_train = torch.from_numpy(x_train)\n",
    "Y_train = torch.from_numpy(y_train)\n"
   ]
  },
  {
   "cell_type": "code",
   "execution_count": 8,
   "metadata": {},
   "outputs": [],
   "source": [
    "input_size = 1\n",
    "hidden_size = 1\n",
    "output_size = 1"
   ]
  },
  {
   "cell_type": "code",
   "execution_count": 9,
   "metadata": {},
   "outputs": [
    {
     "data": {
      "text/plain": [
       "torch.Size([1, 1])"
      ]
     },
     "execution_count": 9,
     "metadata": {},
     "output_type": "execute_result"
    }
   ],
   "source": [
    "w1 = torch.rand(input_size, hidden_size, requires_grad = True)\n",
    "w1.shape"
   ]
  },
  {
   "cell_type": "code",
   "execution_count": 10,
   "metadata": {},
   "outputs": [
    {
     "data": {
      "text/plain": [
       "torch.Size([1, 1])"
      ]
     },
     "execution_count": 10,
     "metadata": {},
     "output_type": "execute_result"
    }
   ],
   "source": [
    "w2 = torch.rand(hidden_size, output_size, requires_grad = True)\n",
    "w2.shape"
   ]
  },
  {
   "cell_type": "code",
   "execution_count": 11,
   "metadata": {},
   "outputs": [],
   "source": [
    "learning_rate = 1e-6"
   ]
  },
  {
   "cell_type": "code",
   "execution_count": 19,
   "metadata": {},
   "outputs": [
    {
     "name": "stdout",
     "output_type": "stream",
     "text": [
      "50 4.089838981628418\n",
      "100 4.08978796005249\n",
      "150 4.089742183685303\n",
      "200 4.089700698852539\n",
      "250 4.089665412902832\n",
      "300 4.089631080627441\n",
      "350 4.089602470397949\n",
      "400 4.089576721191406\n",
      "450 4.089553356170654\n",
      "500 4.089531898498535\n",
      "550 4.089514255523682\n",
      "600 4.089497089385986\n",
      "650 4.089481830596924\n",
      "700 4.0894694328308105\n",
      "750 4.089457035064697\n",
      "800 4.089447021484375\n",
      "850 4.089437007904053\n",
      "900 4.0894293785095215\n",
      "950 4.089420318603516\n",
      "1000 4.089414119720459\n",
      "1050 4.0894083976745605\n",
      "1100 4.08940315246582\n",
      "1150 4.089397430419922\n",
      "1200 4.089393138885498\n",
      "1250 4.089389324188232\n",
      "1300 4.089386463165283\n",
      "1350 4.089382648468018\n",
      "1400 4.089380741119385\n",
      "1450 4.0893778800964355\n",
      "1500 4.089375972747803\n",
      "1550 4.0893731117248535\n",
      "1600 4.089372158050537\n",
      "1650 4.089369773864746\n",
      "1700 4.08936882019043\n",
      "1750 4.0893683433532715\n",
      "1800 4.089366436004639\n",
      "1850 4.089365482330322\n",
      "1900 4.089365005493164\n",
      "1950 4.089364051818848\n",
      "2000 4.0893635749816895\n",
      "2050 4.089362144470215\n",
      "2100 4.089362621307373\n",
      "2150 4.089361667633057\n",
      "2200 4.089361190795898\n",
      "2250 4.089360237121582\n",
      "2300 4.08936071395874\n",
      "2350 4.089359760284424\n",
      "2400 4.089359760284424\n",
      "2450 4.089359283447266\n",
      "2500 4.089358806610107\n",
      "2550 4.089358806610107\n",
      "2600 4.089358806610107\n",
      "2650 4.089358329772949\n",
      "2700 4.089358329772949\n",
      "2750 4.089358329772949\n",
      "2800 4.089358329772949\n",
      "2850 4.089358806610107\n",
      "2900 4.089358329772949\n",
      "2950 4.089358329772949\n",
      "3000 4.089358329772949\n",
      "3050 4.089358329772949\n",
      "3100 4.089357376098633\n",
      "3150 4.089357376098633\n",
      "3200 4.089357376098633\n",
      "3250 4.089357376098633\n",
      "3300 4.089357376098633\n",
      "3350 4.089357376098633\n",
      "3400 4.089357376098633\n",
      "3450 4.089357852935791\n",
      "3500 4.089357376098633\n",
      "3550 4.089357376098633\n",
      "3600 4.089357376098633\n",
      "3650 4.089357852935791\n",
      "3700 4.089357376098633\n",
      "3750 4.089357852935791\n",
      "3800 4.089357376098633\n",
      "3850 4.089356899261475\n",
      "3900 4.089357376098633\n",
      "3950 4.089357376098633\n"
     ]
    }
   ],
   "source": [
    "for iter in range(1,4000):\n",
    "    y_pred = X_train.mm(w1).mm(w2)\n",
    "    loss = (y_pred - Y_train).pow(2).sum()\n",
    "    \n",
    "    if iter % 50 == 0:\n",
    "        print(iter,loss.item())\n",
    "    loss.backward()\n",
    "    \n",
    "    with torch.no_grad():\n",
    "        w1 -= learning_rate * w1.grad\n",
    "        w2 -= learning_rate * w2.grad\n",
    "        w1.grad.zero_()\n",
    "        w2.grad.zero_()"
   ]
  },
  {
   "cell_type": "code",
   "execution_count": 20,
   "metadata": {},
   "outputs": [
    {
     "name": "stdout",
     "output_type": "stream",
     "text": [
      "w1:  tensor([[0.8009]], requires_grad=True)\n",
      "w2:  tensor([[0.4952]], requires_grad=True)\n"
     ]
    }
   ],
   "source": [
    "print('w1: ',w1)\n",
    "print('w2: ',w2)"
   ]
  },
  {
   "cell_type": "code",
   "execution_count": 21,
   "metadata": {},
   "outputs": [
    {
     "data": {
      "text/plain": [
       "tensor([[ 4.7000],\n",
       "        [ 2.4000],\n",
       "        [ 7.5000],\n",
       "        [ 7.1000],\n",
       "        [ 4.3000],\n",
       "        [ 7.8160],\n",
       "        [ 8.9000],\n",
       "        [ 5.2000],\n",
       "        [ 8.5900],\n",
       "        [ 2.1000],\n",
       "        [ 8.0000],\n",
       "        [10.0000],\n",
       "        [ 4.5000],\n",
       "        [ 6.0000],\n",
       "        [ 4.0000]])"
      ]
     },
     "execution_count": 21,
     "metadata": {},
     "output_type": "execute_result"
    }
   ],
   "source": [
    "x_train_tensor = torch.from_numpy(x_train)\n",
    "x_train_tensor"
   ]
  },
  {
   "cell_type": "code",
   "execution_count": 22,
   "metadata": {},
   "outputs": [
    {
     "data": {
      "text/plain": [
       "tensor([[ 4.7000],\n",
       "        [ 2.4000],\n",
       "        [ 7.5000],\n",
       "        [ 7.1000],\n",
       "        [ 4.3000],\n",
       "        [ 7.8160],\n",
       "        [ 8.9000],\n",
       "        [ 5.2000],\n",
       "        [ 8.5900],\n",
       "        [ 2.1000],\n",
       "        [ 8.0000],\n",
       "        [10.0000],\n",
       "        [ 4.5000],\n",
       "        [ 6.0000],\n",
       "        [ 4.0000]])"
      ]
     },
     "execution_count": 22,
     "metadata": {},
     "output_type": "execute_result"
    }
   ],
   "source": [
    "X_train"
   ]
  },
  {
   "cell_type": "code",
   "execution_count": 23,
   "metadata": {},
   "outputs": [
    {
     "data": {
      "text/plain": [
       "tensor([[1.8642],\n",
       "        [0.9519],\n",
       "        [2.9747],\n",
       "        [2.8161],\n",
       "        [1.7055],\n",
       "        [3.1000],\n",
       "        [3.5300],\n",
       "        [2.0625],\n",
       "        [3.4070],\n",
       "        [0.8329],\n",
       "        [3.1730],\n",
       "        [3.9663],\n",
       "        [1.7848],\n",
       "        [2.3798],\n",
       "        [1.5865]], grad_fn=<MmBackward>)"
      ]
     },
     "execution_count": 23,
     "metadata": {},
     "output_type": "execute_result"
    }
   ],
   "source": [
    "predicted_in_tensor = x_train_tensor.mm(w1).mm(w2)\n",
    "predicted_in_tensor"
   ]
  },
  {
   "cell_type": "code",
   "execution_count": 24,
   "metadata": {},
   "outputs": [
    {
     "data": {
      "text/plain": [
       "array([[1.8641517 ],\n",
       "       [0.9519074 ],\n",
       "       [2.9747105 ],\n",
       "       [2.816059  ],\n",
       "       [1.7055007 ],\n",
       "       [3.100045  ],\n",
       "       [3.5299897 ],\n",
       "       [2.062466  ],\n",
       "       [3.407035  ],\n",
       "       [0.83291894],\n",
       "       [3.1730244 ],\n",
       "       [3.9662805 ],\n",
       "       [1.7848263 ],\n",
       "       [2.3797684 ],\n",
       "       [1.5865122 ]], dtype=float32)"
      ]
     },
     "execution_count": 24,
     "metadata": {},
     "output_type": "execute_result"
    }
   ],
   "source": [
    "predicted = predicted_in_tensor.detach().numpy()\n",
    "predicted"
   ]
  },
  {
   "cell_type": "code",
   "execution_count": 25,
   "metadata": {},
   "outputs": [
    {
     "data": {
      "image/png": "[encoded data removed]",
      "text/plain": [
       "<Figure size 864x576 with 1 Axes>"
      ]
     },
     "metadata": {
      "needs_background": "light"
     },
     "output_type": "display_data"
    }
   ],
   "source": [
    "plt.figure(figsize = (12,8))\n",
    "plt.scatter(x_train, y_train, label = 'Original data', s = 250, c = 'g')\n",
    "plt.plot(x_train, predicted, label = 'Fitted line')\n",
    "plt.legend()\n",
    "plt.show()"
   ]
  },
  {
   "cell_type": "code",
   "execution_count": 26,
   "metadata": {},
   "outputs": [
    {
     "name": "stdout",
     "output_type": "stream",
     "text": [
      "Defaulting to user installation because normal site-packages is not writeable\n",
      "Collecting graphviz\n",
      "  Downloading graphviz-0.13.2-py2.py3-none-any.whl (17 kB)\n",
      "Installing collected packages: graphviz\n",
      "Successfully installed graphviz-0.13.2\n"
     ]
    }
   ],
   "source": [
    "!pip install graphviz"
   ]
  },
  {
   "cell_type": "code",
   "execution_count": 27,
   "metadata": {},
   "outputs": [
    {
     "name": "stdout",
     "output_type": "stream",
     "text": [
      "Defaulting to user installation because normal site-packages is not writeable\n",
      "Collecting hiddenlayer\n",
      "  Downloading hiddenlayer-0.2-py3-none-any.whl (19 kB)\n",
      "Installing collected packages: hiddenlayer\n",
      "Successfully installed hiddenlayer-0.2\n"
     ]
    }
   ],
   "source": [
    "!pip install hiddenlayer"
   ]
  },
  {
   "cell_type": "code",
   "execution_count": null,
   "metadata": {},
   "outputs": [],
   "source": []
  }
 ],
 "metadata": {
  "kernelspec": {
   "display_name": "Python 3",
   "language": "python",
   "name": "python3"
  },
  "language_info": {
   "codemirror_mode": {
    "name": "ipython",
    "version": 3
   },
   "file_extension": ".py",
   "mimetype": "text/x-python",
   "name": "python",
   "nbconvert_exporter": "python",
   "pygments_lexer": "ipython3",
   "version": "3.7.5"
  }
 },
 "nbformat": 4,
 "nbformat_minor": 2
}
